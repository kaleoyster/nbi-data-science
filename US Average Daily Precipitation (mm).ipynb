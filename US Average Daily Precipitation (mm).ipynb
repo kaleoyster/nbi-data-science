{
 "cells": [
  {
   "cell_type": "markdown",
   "metadata": {},
   "source": [
    "### Library and Packages"
   ]
  },
  {
   "cell_type": "code",
   "execution_count": 2,
   "metadata": {},
   "outputs": [],
   "source": [
    "import pandas as pd\n",
    "import numpy as np\n",
    "import matplotlib.pyplot as plt\n",
    "import plotly\n",
    "import plotly.plotly as py\n",
    "import plotly.figure_factory as ff"
   ]
  },
  {
   "cell_type": "markdown",
   "metadata": {},
   "source": [
    "### Loading Precipitation Data"
   ]
  },
  {
   "cell_type": "code",
   "execution_count": 3,
   "metadata": {},
   "outputs": [],
   "source": [
    "df = pd.read_csv('new_climate_data.csv')\n",
    "df.drop('Unnamed: 0', axis = 1)"
   ]
  },
  {
   "cell_type": "markdown",
   "metadata": {},
   "source": [
    "### Visualization of US Average Daily Precipitation Data"
   ]
  },
  {
   "cell_type": "code",
   "execution_count": 12,
   "metadata": {
    "scrolled": false
   },
   "outputs": [
    {
     "name": "stderr",
     "output_type": "stream",
     "text": [
      "/Users/AkshayKale/anaconda3/lib/python3.6/site-packages/plotly/figure_factory/_county_choropleth.py:763: UserWarning:\n",
      "\n",
      "Unrecognized FIPS Values\n",
      "\n",
      "Whoops! It looks like you are trying to pass at least one FIPS value that is not in our shapefile of FIPS and data for the counties. Your choropleth will still show up but these counties cannot be shown.\n",
      "Unrecognized FIPS are: [12025, 30113, 51560, 51780]\n",
      "\n"
     ]
    },
    {
     "name": "stdout",
     "output_type": "stream",
     "text": [
      "The draw time for this plot will be slow for clients without much RAM.\n"
     ]
    },
    {
     "name": "stderr",
     "output_type": "stream",
     "text": [
      "/Users/AkshayKale/anaconda3/lib/python3.6/site-packages/plotly/api/v1/clientresp.py:40: UserWarning:\n",
      "\n",
      "Estimated Draw Time Slow\n",
      "\n"
     ]
    },
    {
     "data": {
      "text/html": [
       "<iframe id=\"igraph\" scrolling=\"no\" style=\"border:none;\" seamless=\"seamless\" src=\"https://plot.ly/~kaleoyster/8.embed\" height=\"450px\" width=\"900px\"></iframe>"
      ],
      "text/plain": [
       "<plotly.tools.PlotlyDisplay object>"
      ]
     },
     "execution_count": 12,
     "metadata": {},
     "output_type": "execute_result"
    }
   ],
   "source": [
    "## [12025, 30113, 51560, 51780] Cannot be show\n",
    "colorscale = [\"#d2e3f3\",\"#9ecae1\",\n",
    "              \"#85bcdb\",\"#4292c6\",\"#3082be\",\"#2171b5\",\"#1361a9\",\n",
    "              \"#08519c\",\"#0b4083\",\"#08306b\"]\n",
    "\n",
    "endpts =[1,2,3,4,5,6,7,8]\n",
    "fips = df['FIPS'].tolist()\n",
    "values = df['Avg Daily Precipitation (mm)'].tolist()\n",
    "\n",
    "fig = ff.create_choropleth(\n",
    "    fips=fips, values=values,\n",
    "    binning_endpoints=endpts,\n",
    "    colorscale=colorscale,\n",
    "    show_state_data=False,\n",
    "    show_hover=True, centroid_marker={'opacity': 0},\n",
    "    asp=2.9, title='US Average Daily Precipitation',\n",
    "    legend_title='Avg Daily Precipitation (mm)'\n",
    ")\n",
    "py.iplot(fig, filename='choropleth_full_usa')"
   ]
  },
  {
   "cell_type": "markdown",
   "metadata": {},
   "source": [
    "### Data Source:\n",
    "https://wonder.cdc.gov/wonder/help/main.html#What%20is%20WONDER"
   ]
  },
  {
   "cell_type": "code",
   "execution_count": 38,
   "metadata": {},
   "outputs": [],
   "source": [
    "categories = pd.cut(np.array(df['Avg Daily Precipitation (mm)']),4)\n",
    "df['Category'] = list(categories)\n",
    "groupby_category = df.groupby(['Category','State'])['County'].count()"
   ]
  },
  {
   "cell_type": "markdown",
   "metadata": {},
   "source": [
    "### Grouping Counties by Category and States"
   ]
  },
  {
   "cell_type": "code",
   "execution_count": 43,
   "metadata": {},
   "outputs": [
    {
     "data": {
      "text/plain": [
       "Category        State\n",
       "(0.243, 2.098]   AZ       15\n",
       "                 CA       34\n",
       "                 CO       61\n",
       "                 IA        5\n",
       "                 ID       33\n",
       "                 KS       46\n",
       "                 MI        7\n",
       "                 MN       54\n",
       "                 MT       52\n",
       "                 ND       53\n",
       "                 NE       69\n",
       "                 NM       33\n",
       "                 NV       17\n",
       "                 OK       17\n",
       "                 OR       17\n",
       "                 SD       66\n",
       "                 TX      134\n",
       "                 UT       29\n",
       "                 WA       19\n",
       "                 WY       21\n",
       "(2.098, 3.945]   AL       58\n",
       "                 AR       73\n",
       "                 CA       22\n",
       "                 CO        2\n",
       "                 CT        8\n",
       "                 DC        1\n",
       "                 DE        3\n",
       "                 FL       59\n",
       "                 GA      153\n",
       "                 IA       94\n",
       "                        ... \n",
       "                 NJ       21\n",
       "                 NY       62\n",
       "                 OH       88\n",
       "                 OK       60\n",
       "                 OR        6\n",
       "                 PA       67\n",
       "                 RI        5\n",
       "                 SC       45\n",
       "                 TN       95\n",
       "                 TX      120\n",
       "                 VA      136\n",
       "                 VT       14\n",
       "                 WA        5\n",
       "                 WI       72\n",
       "                 WV       55\n",
       "                 WY        1\n",
       "(3.945, 5.792]   AL        9\n",
       "                 AR        2\n",
       "                 CA        1\n",
       "                 FL        8\n",
       "                 GA        6\n",
       "                 LA       33\n",
       "                 MS       29\n",
       "                 NC        6\n",
       "                 OR        9\n",
       "                 SC        1\n",
       "                 WA        9\n",
       "(5.792, 7.64]    CA        1\n",
       "                 OR        4\n",
       "                 WA        6\n",
       "Name: County, Length: 77, dtype: int64"
      ]
     },
     "execution_count": 43,
     "metadata": {},
     "output_type": "execute_result"
    }
   ],
   "source": [
    "groupby_category"
   ]
  },
  {
   "cell_type": "code",
   "execution_count": null,
   "metadata": {},
   "outputs": [],
   "source": [
    "## county precp data and ## condition rating of the county ## deterioration rates"
   ]
  }
 ],
 "metadata": {
  "kernelspec": {
   "display_name": "Python 3",
   "language": "python",
   "name": "python3"
  },
  "language_info": {
   "codemirror_mode": {
    "name": "ipython",
    "version": 3
   },
   "file_extension": ".py",
   "mimetype": "text/x-python",
   "name": "python",
   "nbconvert_exporter": "python",
   "pygments_lexer": "ipython3",
   "version": "3.6.4"
  }
 },
 "nbformat": 4,
 "nbformat_minor": 2
}
